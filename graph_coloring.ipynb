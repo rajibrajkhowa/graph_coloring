{
 "cells": [
  {
   "cell_type": "code",
   "execution_count": null,
   "id": "3554b255",
   "metadata": {},
   "outputs": [],
   "source": [
    "from sage.graphs.graph_coloring import chromatic_number\n",
    "from sage.graphs.graph_coloring import first_coloring\n",
    "import seaborn as sns\n",
    "import random as rnd\n",
    "\n",
    "\n",
    "# Define the graph parameters & find chromatic number of the graph\n",
    "p = rnd.random()\n",
    "G = graphs.RandomGNP(10,p)\n",
    "#G = graphs.CycleGraph(10)\n",
    "#G = graphs.PetersenGraph()\n",
    "#G = graphs.CompleteGraph(10)\n",
    "C = chromatic_number(G)\n",
    "print(\"The chromatic number of graph is: \",C,\"\\n\")\n",
    "\n",
    "# Returns a list of list of node grouping.Each sublist is a node or group of node that can be assigned the same color without violating the graph coloring rules\n",
    "\n",
    "Nodes = sorted(first_coloring(G,C))\n",
    "\n",
    "\n",
    "# Plot the graph\n",
    "Colors=sns.color_palette(None, C)\n",
    "vertex_color_dict = dict(zip(Colors, Nodes))\n",
    "H = G.graphplot(vertex_color=vertex_color_dict, layout='circular')\n",
    "H.show()"
   ]
  },
  {
   "cell_type": "code",
   "execution_count": null,
   "id": "32304a4f",
   "metadata": {},
   "outputs": [],
   "source": []
  }
 ],
 "metadata": {
  "kernelspec": {
   "display_name": "Python 3 (ipykernel)",
   "language": "python",
   "name": "python3"
  },
  "language_info": {
   "codemirror_mode": {
    "name": "ipython",
    "version": 3
   },
   "file_extension": ".py",
   "mimetype": "text/x-python",
   "name": "python",
   "nbconvert_exporter": "python",
   "pygments_lexer": "ipython3",
   "version": "3.9.13"
  }
 },
 "nbformat": 4,
 "nbformat_minor": 5
}
